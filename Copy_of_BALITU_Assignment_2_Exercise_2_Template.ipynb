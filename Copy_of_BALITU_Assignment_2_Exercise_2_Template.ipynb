{
  "cells": [
    {
      "cell_type": "markdown",
      "metadata": {
        "id": "view-in-github",
        "colab_type": "text"
      },
      "source": [
        "<a href=\"https://colab.research.google.com/github/Antony-gitau/Airline_ticket_price_prediction/blob/main/Copy_of_BALITU_Assignment_2_Exercise_2_Template.ipynb\" target=\"_parent\"><img src=\"https://colab.research.google.com/assets/colab-badge.svg\" alt=\"Open In Colab\"/></a>"
      ]
    },
    {
      "cell_type": "markdown",
      "id": "13dcc8e7-b161-4756-a835-b0aa78f46f26",
      "metadata": {
        "id": "13dcc8e7-b161-4756-a835-b0aa78f46f26"
      },
      "source": [
        "# BALITU Assignment 2 Exercise 2\n",
        "\n",
        "$$\n",
        "\\require{mathtools}\n",
        "\\DeclareMathOperator{\\opExpectation}{\\mathbb{E}}\n",
        "\\newcommand{\\E}[2]{\\opExpectation_{#1} \\left [ #2 \\right ]}\n",
        "\\newcommand{\\simpleE}[1]{\\opExpectation_{#1}}\n",
        "\\newcommand{\\implicitE}[1]{\\opExpectation \\left [ #1 \\right ]}\n",
        "\\DeclareMathOperator{\\opVar}{\\mathrm{Var}}\n",
        "\\newcommand{\\Var}[2]{\\opVar_{#1} \\left [ #2 \\right ]}\n",
        "\\newcommand{\\implicitVar}[1]{\\opVar \\left [ #1 \\right ]}\n",
        "\\newcommand\\MidSymbol[1][]{%\n",
        "\\:#1\\:}\n",
        "\\newcommand{\\given}{\\MidSymbol[\\vert]}\n",
        "\\DeclareMathOperator{\\opmus}{\\mu^*}\n",
        "\\newcommand{\\IMof}[1]{\\opmus[#1]}\n",
        "\\DeclareMathOperator{\\opInformationContent}{H}\n",
        "\\newcommand{\\ICof}[1]{\\opInformationContent[#1]}\n",
        "\\newcommand{\\xICof}[1]{\\opInformationContent(#1)}\n",
        "\\newcommand{\\sicof}[1]{h(#1)}\n",
        "\\DeclareMathOperator{\\opEntropy}{H}\n",
        "\\newcommand{\\Hof}[1]{\\opEntropy[#1]}\n",
        "\\newcommand{\\xHof}[1]{\\opEntropy(#1)}\n",
        "\\DeclareMathOperator{\\opMI}{I}\n",
        "\\newcommand{\\MIof}[1]{\\opMI[#1]}\n",
        "\\DeclareMathOperator{\\opTC}{TC}\n",
        "\\newcommand{\\TCof}[1]{\\opTC[#1]}\n",
        "\\newcommand{\\CrossEntropy}[2]{\\opEntropy(#1 \\MidSymbol[\\Vert] #2)}\n",
        "\\DeclareMathOperator{\\opKale}{D_\\mathrm{KL}}\n",
        "\\newcommand{\\Kale}[2]{\\opKale(#1 \\MidSymbol[\\Vert] #2)}\n",
        "\\DeclareMathOperator{\\opJSD}{D_\\mathrm{JSD}}\n",
        "\\newcommand{\\JSD}[2]{\\opJSD(#1 \\MidSymbol[\\Vert] #2)}\n",
        "\\DeclareMathOperator{\\opp}{p}\n",
        "\\newcommand{\\pof}[1]{\\opp(#1)}\n",
        "\\newcommand{\\pcof}[2]{\\opp_{#1}(#2)}\n",
        "\\newcommand{\\hpcof}[2]{\\hat\\opp_{#1}(#2)}\n",
        "\\DeclareMathOperator{\\opq}{q}\n",
        "\\newcommand{\\qof}[1]{\\opq(#1)}\n",
        "\\newcommand{\\qcof}[2]{\\opq_{#1}(#2)}\n",
        "\\newcommand{\\varHof}[2]{\\opEntropy_{#1}[#2]}\n",
        "\\newcommand{\\xvarHof}[2]{\\opEntropy_{#1}(#2)}\n",
        "\\newcommand{\\varMIof}[2]{\\opMI_{#1}[#2]}\n",
        "\\newcommand{\\w}{\\boldsymbol{\\omega}}\n",
        "\\newcommand{\\W}{\\boldsymbol{\\Omega}}\n",
        "\\DeclareMathOperator{\\opf}{f}\n",
        "\\newcommand{\\fof}[1]{\\opf(#1)}\n",
        "\\newcommand{\\indep}{\\perp\\!\\!\\!\\!\\perp}\n",
        "$$\n",
        "\n",
        "## 2. Comparing Uncertainty Methods (25p)\n",
        "\n",
        "We will use a LeNet5 model \\[@lecun1998gradient\\] with additional\n",
        "dropout layers as model architecture and MNIST and\n",
        "[Dirty-MNIST](https://blackhc.github.io/ddu_dirty_mnist/) as datasets\n",
        "for the following experiments. Dirty-MNIST is a version of MNIST with\n",
        "additional ambiguous samples.\n",
        "\n",
        "For the Laplace approximation, we can use the [laplace\n",
        "package](https://aleximmer.github.io/Laplace/). For MC dropout, we can\n",
        "enable dropout during evaluation and simply average the predictions of\n",
        "multiple forward passes with different dropout masks.\n",
        "\n",
        "To compute BALD, use 32 samples for MC dropout and the Laplace\n",
        "approximation and 8 models for the deep ensemble.\n",
        "\n",
        "To compare the methods, we will use rejection classification based on\n",
        "epistemic uncertainty: **Classification with a rejection option**\n",
        "thresholds the epistemic uncertainty for the predictions we accept and\n",
        "computes the evaluation metrics only for the accepted predictions. We\n",
        "plot the rejection percentile vs. the performance metric. As we vary the\n",
        "threshold, we get a trade-off between performance and rejection rate.\n",
        "Ideally, the fewer predictions we accept, the better the performance.\n",
        "\n",
        "#### Tasks:\n",
        "\n",
        "1. **(8p)** Train models on Dirty-MNIST's training set and evaluate NLL and accuracy on MNIST's test set using the following methods:\n",
        "   \n",
        "   1. Deep Ensembles\n",
        "   2. MC Dropout\n",
        "   3. Laplace Approximation (**strongly optional**)\n",
        "   4. Deterministic Model (no dropout during evaluation)\n",
        "   \n",
        "   *Use a convolutional dropout layer after each convolutional layer and a regular dropout layer after each linear layer with dropout probability 0.5. For Deep Ensembles, train 8 models with different random initializations. For the Laplace Approximation, use the recommended defaults from the laplace package. For all methods, use the Adam optimizer with a learning rate of 0.001 and weight decay of 5e-4 and train for 10 epochs.*"
      ]
    },
    {
      "cell_type": "code",
      "execution_count": 1,
      "id": "d4e8cd1c",
      "metadata": {
        "id": "d4e8cd1c"
      },
      "outputs": [],
      "source": [
        "# Install dirty-mnist via `pip install ddu_dirty_mnist` or similar.\n",
        "%%capture\n",
        "!pip install ddu_dirty_mnist\n",
        "!pip install laplace-torch"
      ]
    },
    {
      "cell_type": "code",
      "execution_count": 2,
      "id": "d7eadcb5",
      "metadata": {
        "id": "d7eadcb5"
      },
      "outputs": [],
      "source": [
        "# Imports & Setup\n",
        "\n",
        "# set PYTORCH_ENABLE_MPS_FALLBACK environment variable to 1 to use MPS (no effect on CUDA)\n",
        "import os\n",
        "os.environ[\"PYTORCH_ENABLE_MPS_FALLBACK\"] = \"1\"\n",
        "\n",
        "from typing import Callable, Optional\n",
        "\n",
        "import ddu_dirty_mnist\n",
        "import matplotlib.pyplot as plt\n",
        "import numpy as np\n",
        "import torch\n",
        "import torch.nn as nn\n",
        "import torch.nn.functional as F\n",
        "from torch.utils.data import DataLoader\n",
        "from torchvision import datasets, transforms\n",
        "from tqdm import tqdm\n",
        "\n",
        "device = \"cpu\"\n",
        "if torch.cuda.is_available():\n",
        "    device = \"cuda\"\n",
        "elif torch.backends.mps.is_available():\n",
        "    device = \"mps\""
      ]
    },
    {
      "cell_type": "code",
      "execution_count": 3,
      "id": "78181584",
      "metadata": {
        "id": "78181584"
      },
      "outputs": [],
      "source": [
        "# LeNet5 with additional dropout layers for MNIST\n",
        "\n",
        "class BayesianMNISTCNN(nn.Module):\n",
        "    \"\"\"LeNet5 with additional dropout layers.\"\"\"\n",
        "\n",
        "    def __init__(self, num_classes=10, p=0.5):\n",
        "        super(BayesianMNISTCNN, self).__init__()\n",
        "        self.conv1 = nn.Conv2d(in_channels=1, out_channels=32, kernel_size=5)\n",
        "        self.dropout1 = nn.Dropout2d(p=p)\n",
        "        self.conv2 = nn.Conv2d(in_channels=32, out_channels=64, kernel_size=5)\n",
        "        self.dropout2 = nn.Dropout2d(p=p)\n",
        "        self.fc1 = nn.Linear(in_features=1024, out_features=128)\n",
        "        self.dropout3 = nn.Dropout(p=p)\n",
        "        self.fc2 = nn.Linear(in_features=128, out_features=num_classes)\n",
        "\n",
        "    def forward(self, x):\n",
        "        x = self.conv1(x)\n",
        "        x = F.relu(x)\n",
        "        x, _ = F.max_pool2d(x, kernel_size=2, return_indices=True)\n",
        "        x = self.dropout1(x)\n",
        "\n",
        "        x = self.conv2(x)\n",
        "        x = F.relu(x)\n",
        "        x, _ = F.max_pool2d(x, kernel_size=2, return_indices=True)\n",
        "        x = self.dropout2(x)\n",
        "\n",
        "        x = x.view(-1, 1024)\n",
        "        x = self.fc1(x)\n",
        "        x = F.relu(x)\n",
        "        x = self.dropout3(x)\n",
        "\n",
        "        embedding = x\n",
        "        x = self.fc2(x)\n",
        "        output = F.log_softmax(x, dim=1)\n",
        "        return output, embedding\n",
        "\n",
        "\n",
        "def create_model_optimizer() -> tuple[BayesianMNISTCNN, torch.optim.Optimizer]:\n",
        "    \"\"\"Create a model and optimizer for MNIST.\"\"\"\n",
        "    model = BayesianMNISTCNN()\n",
        "    optimizer = torch.optim.Adam(model.parameters(), lr=0.001, weight_decay=5e-4)\n",
        "    return model, optimizer"
      ]
    },
    {
      "cell_type": "code",
      "execution_count": 4,
      "id": "9e78c9ba",
      "metadata": {
        "id": "9e78c9ba"
      },
      "outputs": [],
      "source": [
        "def get_data_loaders(batch_size=64, eval_batch_size=1024, device=\"cuda\"):\n",
        "    train_dataset = ddu_dirty_mnist.DirtyMNIST('./data', train=True, download=True, device=device, normalize=True)\n",
        "    test_dataset_mnist = ddu_dirty_mnist.FastMNIST('./data', train=False, download=True, device=device, normalize=True)\n",
        "    test_dataset_dirty_mnist = ddu_dirty_mnist.DirtyMNIST('./data', train=False, download=True, device=device, normalize=True)\n",
        "    test_dataset_fashion = datasets.FashionMNIST('./data', train=False, download=True,\n",
        "                                               transform=transforms.Compose([\n",
        "                                                   transforms.ToTensor(),\n",
        "                                                   transforms.Normalize((0.1307,), (0.3081,))\n",
        "                                               ]))\n",
        "\n",
        "    train_loader = DataLoader(train_dataset, batch_size=batch_size, shuffle=True, num_workers=0)\n",
        "    test_loader_mnist = DataLoader(test_dataset_mnist, batch_size=eval_batch_size, shuffle=False, num_workers=0)\n",
        "    test_loader_dirty_mnist = DataLoader(test_dataset_dirty_mnist, batch_size=eval_batch_size, shuffle=False, num_workers=0)\n",
        "    test_loader_fashion = DataLoader(test_dataset_fashion, batch_size=eval_batch_size, shuffle=False, num_workers=0)\n",
        "\n",
        "    return train_loader, test_loader_mnist, test_loader_dirty_mnist, test_loader_fashion"
      ]
    },
    {
      "cell_type": "code",
      "source": [
        "%%capture\n",
        "train_loader, test_loader_mnist, test_loader_dirty_mnist, test_loader_fashion = get_data_loaders()"
      ],
      "metadata": {
        "id": "ROwMnsvJCm_W"
      },
      "id": "ROwMnsvJCm_W",
      "execution_count": 5,
      "outputs": []
    },
    {
      "cell_type": "markdown",
      "id": "7fe41555-11e0-4434-99e8-069085a8b93e",
      "metadata": {
        "id": "7fe41555-11e0-4434-99e8-069085a8b93e"
      },
      "source": [
        "#### TODOs:\n",
        "\n",
        "1.  Define a training loop to train a model\n",
        "2.  Train a deep ensemble of 8 models\n",
        "3.  Define a function to predict log probabilities with a deep ensemble\n",
        "    (make sure to use eval mode and average over the ensemble\n",
        "    predictions)\n",
        "4.  Evaluate the deep ensemble on MNIST’s test set in terms of NLL and\n",
        "    accuracy\n",
        "\n",
        "Use one of the trained models to predict log probabilities with MC\n",
        "Dropout (make sure to use train mode to get different predictions for\n",
        "each sample)."
      ]
    },
    {
      "cell_type": "markdown",
      "source": [
        "# Training loop"
      ],
      "metadata": {
        "id": "5JncokqTJOEk"
      },
      "id": "5JncokqTJOEk"
    },
    {
      "cell_type": "code",
      "source": [
        "def train_model(model, train_loader, optimizer, device, epoch):\n",
        "    model.train()  # Set the model to training mode\n",
        "    running_loss = 0.0\n",
        "    correct = 0\n",
        "    total = 0\n",
        "\n",
        "    for batch_idx, (data, target) in enumerate(train_loader):\n",
        "        data, target = data.to(device), target.to(device)\n",
        "\n",
        "        optimizer.zero_grad()  # Zero the gradients\n",
        "\n",
        "        # Forward pass\n",
        "        output, _ = model(data)\n",
        "        loss = F.nll_loss(output, target)\n",
        "\n",
        "        # Backward pass\n",
        "        loss.backward()\n",
        "        optimizer.step()\n",
        "\n",
        "        running_loss += loss.item()\n",
        "\n",
        "        # Calculate accuracy\n",
        "        pred = output.argmax(dim=1, keepdim=True)\n",
        "        correct += pred.eq(target.view_as(pred)).sum().item()\n",
        "        total += target.size(0)\n",
        "\n",
        "    epoch_loss = running_loss / len(train_loader)\n",
        "    epoch_accuracy = 100. * correct / total\n",
        "    if epoch % 5 == 0:\n",
        "      print(f'Epoch {epoch}: Loss: {epoch_loss:.4f}, Accuracy: {epoch_accuracy:.2f}%')\n",
        "    return epoch_loss, epoch_accuracy\n"
      ],
      "metadata": {
        "id": "T2jcnx5ilCSX"
      },
      "id": "T2jcnx5ilCSX",
      "execution_count": 6,
      "outputs": []
    },
    {
      "cell_type": "code",
      "source": [
        "def train_ensemble(train_loader, device, num_models=8, epochs=10):\n",
        "    ensemble = []\n",
        "    for i in range(num_models):\n",
        "        model, optimizer = create_model_optimizer()\n",
        "        model = model.to(device)\n",
        "        print(f\"Training model {i+1}\")\n",
        "        for epoch in range(1, epochs + 1):\n",
        "            train_loss, train_accuracy = train_model(model, train_loader, optimizer, device, epoch)\n",
        "        ensemble.append(model)\n",
        "    return ensemble\n"
      ],
      "metadata": {
        "id": "Qr1hHliVlVUU"
      },
      "id": "Qr1hHliVlVUU",
      "execution_count": 7,
      "outputs": []
    },
    {
      "cell_type": "code",
      "source": [
        "def predict_ensemble(models, data, device):\n",
        "    models = [model.to(device) for model in models]\n",
        "    log_probs_list = []\n",
        "\n",
        "    for model in models:\n",
        "        model.eval()  # Set each model to eval mode\n",
        "        with torch.no_grad():\n",
        "            output, _ = model(data)\n",
        "            log_probs_list.append(output)\n",
        "\n",
        "    # Average the log-probabilities\n",
        "    avg_log_probs = torch.mean(torch.stack(log_probs_list), dim=0)\n",
        "    return avg_log_probs\n"
      ],
      "metadata": {
        "id": "i7nfTMYalj7h"
      },
      "id": "i7nfTMYalj7h",
      "execution_count": 8,
      "outputs": []
    },
    {
      "cell_type": "code",
      "source": [
        "def evaluate_ensemble(models, test_loader, device):\n",
        "    models = [model.to(device) for model in models]\n",
        "    for model in models:\n",
        "      model.eval()\n",
        "\n",
        "    test_loss = 0\n",
        "    correct = 0\n",
        "    total = 0\n",
        "\n",
        "    for data, target in test_loader:\n",
        "        data, target = data.to(device), target.to(device)\n",
        "\n",
        "        # Get the average log probabilities from the ensemble\n",
        "        avg_log_probs = predict_ensemble(models, data, device)\n",
        "\n",
        "        # Compute the loss\n",
        "        loss = F.nll_loss(avg_log_probs, target)\n",
        "        test_loss += loss.item()\n",
        "\n",
        "        # Calculate accuracy\n",
        "        pred = avg_log_probs.argmax(dim=1, keepdim=True)\n",
        "        correct += pred.eq(target.view_as(pred)).sum().item()\n",
        "        total += target.size(0)\n",
        "\n",
        "    test_loss /= len(test_loader)\n",
        "    accuracy = 100. * correct / total\n",
        "    return test_loss, accuracy\n"
      ],
      "metadata": {
        "id": "6GxrgtIfl2Gw"
      },
      "id": "6GxrgtIfl2Gw",
      "execution_count": 9,
      "outputs": []
    },
    {
      "cell_type": "code",
      "source": [
        "def predict_mc_dropout(model, data, device, num_samples=32):\n",
        "    model.train()  # Keep the model in training mode to apply dropout\n",
        "    log_probs_list = []\n",
        "\n",
        "    for _ in range(num_samples):\n",
        "        with torch.no_grad():\n",
        "            output, _ = model(data)\n",
        "            log_probs_list.append(output)\n",
        "\n",
        "    # Average the predictions across all samples\n",
        "    avg_log_probs = torch.mean(torch.stack(log_probs_list), dim=0)\n",
        "    return avg_log_probs\n"
      ],
      "metadata": {
        "id": "k85dC9dpmBil"
      },
      "id": "k85dC9dpmBil",
      "execution_count": 10,
      "outputs": []
    },
    {
      "cell_type": "code",
      "source": [
        "# Train the ensemble\n",
        "ensemble = train_ensemble(train_loader, device, num_models=2, epochs=10)\n",
        "\n",
        "# Evaluate the ensemble\n",
        "test_loss, accuracy = evaluate_ensemble(ensemble, test_loader_mnist, device)\n",
        "print(f\"Ensemble Test Loss: {test_loss:.4f}, Test Accuracy: {accuracy:.2f}%\")\n",
        "\n",
        "# Use one model to predict log probabilities with MC Dropout\n",
        "model = ensemble[0]\n",
        "sample_data, _ = next(iter(test_loader_mnist))\n",
        "sample_data = sample_data.to(device)\n",
        "\n",
        "mc_log_probs = predict_mc_dropout(model, sample_data, device, num_samples=100)\n",
        "print(f\"MC Dropout Log Probabilities: {mc_log_probs}\")\n",
        "\n"
      ],
      "metadata": {
        "colab": {
          "base_uri": "https://localhost:8080/"
        },
        "id": "DeckNctbsKAu",
        "outputId": "b87b8e55-d2aa-4ef3-966c-47f2f29ce01d"
      },
      "id": "DeckNctbsKAu",
      "execution_count": 11,
      "outputs": [
        {
          "output_type": "stream",
          "name": "stdout",
          "text": [
            "Training model 1\n",
            "Epoch 5: Loss: 0.4439, Accuracy: 85.02%\n",
            "Epoch 10: Loss: 0.4317, Accuracy: 85.36%\n",
            "Training model 2\n",
            "Epoch 5: Loss: 0.4437, Accuracy: 85.07%\n",
            "Epoch 10: Loss: 0.4316, Accuracy: 85.47%\n",
            "Ensemble Test Loss: 0.0417, Test Accuracy: 98.88%\n",
            "MC Dropout Log Probabilities: tensor([[-1.9450e+01, -1.4247e+01, -1.1915e+01,  ..., -6.2905e-03,\n",
            "         -1.9968e+01, -1.0948e+01],\n",
            "        [-9.7600e+00, -1.0256e+01, -1.0720e-02,  ..., -1.6653e+01,\n",
            "         -1.2531e+01, -2.0875e+01],\n",
            "        [-1.1687e+01, -1.7274e-02, -8.8738e+00,  ..., -7.7216e+00,\n",
            "         -7.7007e+00, -1.1049e+01],\n",
            "        ...,\n",
            "        [-1.3384e+01, -8.1412e+00, -5.9580e+00,  ..., -9.9419e-02,\n",
            "         -9.9232e+00, -1.1079e+01],\n",
            "        [-1.9953e+01, -2.3487e+01, -2.0622e+01,  ..., -1.5842e+01,\n",
            "         -1.1987e+01, -5.4101e+00],\n",
            "        [-1.9690e+01, -1.3869e+01, -1.3081e+01,  ..., -9.1272e+00,\n",
            "         -1.7057e+01, -1.2533e+01]], device='cuda:0')\n"
          ]
        }
      ]
    },
    {
      "cell_type": "code",
      "execution_count": 12,
      "id": "a690456b",
      "metadata": {
        "id": "a690456b"
      },
      "outputs": [],
      "source": [
        "@torch.inference_mode()\n",
        "def deep_ensembles_predict_log_probs(models: list[BayesianMNISTCNN], data_loader: DataLoader, device='cuda') -> torch.Tensor:\n",
        "    \"\"\"Predict log probabilities with Deep Ensembles.\n",
        "\n",
        "    Args:\n",
        "        models: List of models\n",
        "        data_loader: DataLoader for the data to predict\n",
        "        device: Device to use for prediction\n",
        "\n",
        "    Returns:\n",
        "        Tensor of shape (n_models, n_inputs, n_classes) containing log_softmax outputs\n",
        "    \"\"\"\n",
        "    for model in models:\n",
        "        model.to(device)\n",
        "        model.eval()\n",
        "    all_outputs = []\n",
        "    for data, _ in tqdm(data_loader, desc=\"Predicting with Deep Ensembles\"):\n",
        "        data = data.to(device)\n",
        "        outputs = []\n",
        "        for model in models:\n",
        "            log_probs, _ = model(data)\n",
        "            outputs.append(log_probs)\n",
        "        all_outputs.append(torch.stack(outputs, dim=0))\n",
        "    return torch.cat(all_outputs, dim=1)"
      ]
    },
    {
      "cell_type": "markdown",
      "source": [
        "# function to predict log probabilities with a deep ensemble"
      ],
      "metadata": {
        "id": "msmXMUq5TOPx"
      },
      "id": "msmXMUq5TOPx"
    },
    {
      "cell_type": "code",
      "source": [
        "log_probabs = deep_ensembles_predict_log_probs(ensemble, test_loader_mnist)"
      ],
      "metadata": {
        "colab": {
          "base_uri": "https://localhost:8080/"
        },
        "id": "vmAeZRLkOZQl",
        "outputId": "84c25c82-f297-4f72-8a2b-2aa9a1ebbf23"
      },
      "id": "vmAeZRLkOZQl",
      "execution_count": 13,
      "outputs": [
        {
          "output_type": "stream",
          "name": "stderr",
          "text": [
            "Predicting with Deep Ensembles: 100%|██████████| 10/10 [00:00<00:00, 118.84it/s]\n"
          ]
        }
      ]
    },
    {
      "cell_type": "code",
      "source": [
        "log_probabs.shape"
      ],
      "metadata": {
        "colab": {
          "base_uri": "https://localhost:8080/"
        },
        "id": "ASY3Mt9aXla-",
        "outputId": "5a0f4655-babc-4946-d929-8804245128c5"
      },
      "id": "ASY3Mt9aXla-",
      "execution_count": 14,
      "outputs": [
        {
          "output_type": "execute_result",
          "data": {
            "text/plain": [
              "torch.Size([2, 10000, 10])"
            ]
          },
          "metadata": {},
          "execution_count": 14
        }
      ]
    },
    {
      "cell_type": "markdown",
      "source": [
        "# evaluate NLL and accuracy on MNIST's test set"
      ],
      "metadata": {
        "id": "ONQdITJ1JxHJ"
      },
      "id": "ONQdITJ1JxHJ"
    },
    {
      "cell_type": "code",
      "execution_count": 15,
      "id": "bb5fbaad",
      "metadata": {
        "id": "bb5fbaad"
      },
      "outputs": [],
      "source": [
        "from typing import Callable, Optional, Tuple\n",
        "def compute_performance_metrics(log_probs: torch.Tensor, data_loader: DataLoader) -> Tuple[float, float]:\n",
        "    \"\"\"Compute accuracy and negative log likelihood metrics.\n",
        "\n",
        "    Args:\n",
        "        log_probs: Tensor of shape (n_samples, n_inputs, n_classes) containing log_softmax outputs\n",
        "        data_loader: DataLoader containing the data and labels\n",
        "\n",
        "    Returns:\n",
        "        Tuple of (accuracy, negative log likelihood)\n",
        "    \"\"\"\n",
        "    device = log_probs.device\n",
        "\n",
        "    # Average predictions over samples\n",
        "    mean_log_probs = torch.logsumexp(log_probs, dim=0) - torch.log(torch.tensor(log_probs.shape[0], device=device))\n",
        "\n",
        "    all_labels = []\n",
        "    for _, labels in data_loader:\n",
        "        all_labels.append(labels)\n",
        "    labels = torch.cat(all_labels).to(device)\n",
        "\n",
        "    # Compute accuracy\n",
        "    predictions = mean_log_probs.argmax(dim=1)\n",
        "    accuracy = (predictions == labels).float().mean().item()\n",
        "\n",
        "    # Compute negative log likelihood\n",
        "    nll = -mean_log_probs[range(len(labels)), labels].mean().item()\n",
        "\n",
        "    return accuracy, nll"
      ]
    },
    {
      "cell_type": "code",
      "source": [
        "accuracy, nll = compute_performance_metrics(log_probabs, test_loader_mnist)\n",
        "accuracy, nll"
      ],
      "metadata": {
        "colab": {
          "base_uri": "https://localhost:8080/"
        },
        "id": "M49PDzddKLGx",
        "outputId": "cd534e6d-bb8f-4d33-d3e6-00f9616fcaa7"
      },
      "id": "M49PDzddKLGx",
      "execution_count": 16,
      "outputs": [
        {
          "output_type": "execute_result",
          "data": {
            "text/plain": [
              "(0.9884999990463257, 0.03942388668656349)"
            ]
          },
          "metadata": {},
          "execution_count": 16
        }
      ]
    },
    {
      "cell_type": "code",
      "execution_count": 17,
      "id": "f03f7fe7",
      "metadata": {
        "id": "f03f7fe7"
      },
      "outputs": [],
      "source": [
        "from laplace import Laplace, ParametricLaplace\n",
        "from laplace.curvature.curvlinops import CurvlinopsGGN\n",
        "\n",
        "def apply_laplace_approximation(model, train_loader, device='cuda') -> ParametricLaplace:\n",
        "    \"\"\"Apply the Laplace approximation to a model.\n",
        "\n",
        "    Args:\n",
        "        model: Model to approximate\n",
        "        train_loader: DataLoader for the training data\n",
        "        device: Device to use for prediction\n",
        "\n",
        "    Returns:\n",
        "        Fitted Laplace approximation\n",
        "    \"\"\"\n",
        "    model.to(device)\n",
        "    model.train()\n",
        "    la: ParametricLaplace = Laplace(model,\n",
        "                 likelihood='classification',\n",
        "                 subset_of_weights='all',\n",
        "                 hessian_structure='gp',\n",
        "                 backend=CurvlinopsGGN,\n",
        "                 n_subset=1024)\n",
        "    la.fit(train_loader, progress_bar=True)\n",
        "    la.optimize_prior_precision(progress_bar=True)\n",
        "    return la"
      ]
    },
    {
      "cell_type": "code",
      "execution_count": 18,
      "id": "5fd9a6de",
      "metadata": {
        "id": "5fd9a6de"
      },
      "outputs": [],
      "source": [
        "class ModelWrapper(nn.Module):\n",
        "    \"\"\"Wrapper to convert a BayesianMNISTCNN to a model that can be used with the Laplace approximation.\"\"\"\n",
        "    model: BayesianMNISTCNN\n",
        "\n",
        "    def __init__(self, model: BayesianMNISTCNN):\n",
        "        super().__init__()\n",
        "        self.model = model\n",
        "\n",
        "    def forward(self, x):\n",
        "        self.model.eval()\n",
        "\n",
        "        _, embedding = self.model(x)\n",
        "        logits = self.model.fc2(embedding)\n",
        "        return logits"
      ]
    },
    {
      "cell_type": "code",
      "execution_count": 19,
      "id": "70c4ba8f",
      "metadata": {
        "id": "70c4ba8f"
      },
      "outputs": [],
      "source": [
        "def laplace_approximation_predict_log_probs(la: ParametricLaplace, data_loader: DataLoader, num_parameter_samples=32, device='cuda') -> torch.Tensor:\n",
        "    \"\"\"Predict log probabilities with Laplace Approximation.\n",
        "\n",
        "    Args:\n",
        "        la: Fitted Laplace approximation\n",
        "        data_loader: DataLoader for the data to predict\n",
        "        num_parameter_samples: Number of Monte Carlo samples\n",
        "        device: Device to use for prediction\n",
        "\n",
        "    Returns:\n",
        "        Tensor of shape (n_samples, n_inputs, n_classes) containing log_softmax outputs\n",
        "    \"\"\"\n",
        "    la.model.to(device)\n",
        "    la.model.eval()\n",
        "    all_outputs = []\n",
        "    for data, _ in tqdm(data_loader, desc=\"Predicting with Laplace Approximation\"):\n",
        "        data = data.to(device)\n",
        "        samples = la.predictive_samples(data, n_samples=num_parameter_samples)\n",
        "        all_outputs.append(samples.log())\n",
        "    return torch.cat(all_outputs, dim=1)"
      ]
    },
    {
      "cell_type": "markdown",
      "id": "f0b07856-fe33-4df1-8898-181f70e5e964",
      "metadata": {
        "id": "f0b07856-fe33-4df1-8898-181f70e5e964"
      },
      "source": [
        "2. **(5p)** Implement classification with a rejection option for Dirty-MNIST's test set using the models you have trained on Dirty-MNIST and implement BALD as proxy for epistemic uncertainty and compare it to using predictive entropy and conditional entropy (as aleatoric uncertainty).\n",
        "   \n",
        "   *Hint: For the deterministic model, you can only compute the the predictive entropy. For MC dropout and Laplace approximation, you can estimate the predictive entropy using samples from the posterior. For deep ensembles, you likewise can use the empirical distribution over the ensemble predictions to estimate the predictive entropy. Then, the epistemic uncertainty (BALD) can be estimated as the difference between the expected entropy and the entropy of the expected predictive distribution.*\n",
        "\n",
        "3. **(2p)** Plot epistemic uncertainty percentiles vs. the performance (NLL and accuracy) for the rejection option. How do the different methods perform? *Hint: You should observe that as you increase the rejection percentile (i.e., reject more samples), the performance on the remaining samples improves.*\n",
        "\n",
        "4. **(4p)** Implement OoD detection on Dirty-MNIST vs. Fashion-MNIST using epistemic uncertainty (BALD) and aleatoric uncertainty (predictive entropy and conditional entropy) for your different models. Plot the ROC curve that and report the AUROC. How do the different methods perform? *Hint: You can use `sklearn.metrics.RocCurveDisplay.from_predictions` to help plot the ROC curve and compute the AUROC. Create artifical labels of 0 for Dirty-MNIST samples and 1 for Fashion-MNIST samples and pass them with the uncertainty values to `RocCurveDisplay.from_predictions` to plot the ROC curve for each method and uncertainty metric.*\n",
        "   \n",
        "   _Note: Total uncertainty worked best for me and epistemic uncertainy did not work that well---no idea why._"
      ]
    },
    {
      "cell_type": "code",
      "source": [
        "def predictive_entropy(logits):\n",
        "    probs = F.softmax(logits, dim=1)\n",
        "    entropy = -torch.sum(probs * torch.log(probs + 1e-10), dim=1)\n",
        "    return entropy\n",
        "\n",
        "# Bayesian Active Learning by Disagreement\n",
        "def bald(logits_samples):\n",
        "    expected_logits = logits_samples.mean(dim=0)\n",
        "    expected_probs = F.softmax(expected_logits, dim=1)\n",
        "\n",
        "    expected_entropy = -torch.sum(expected_probs * torch.log(expected_probs + 1e-10), dim=1)\n",
        "\n",
        "    individual_entropies = torch.mean(torch.stack([predictive_entropy(sample) for sample in logits_samples]), dim=0)\n",
        "\n",
        "    bald_value = expected_entropy - individual_entropies\n",
        "    return bald_value\n",
        "\n",
        "def ensemble_predictive_entropy(models, data, num_samples=10):\n",
        "    logits_samples = []\n",
        "    for model in models:\n",
        "        model.eval()\n",
        "        with torch.no_grad():\n",
        "            # Perform MC Dropout by passing the data multiple times through the model\n",
        "            sample_logits = []\n",
        "            for _ in range(num_samples):\n",
        "                logits = model(data)[0]\n",
        "                sample_logits.append(logits)\n",
        "            logits_samples.append(torch.stack(sample_logits))\n",
        "\n",
        "    logits_samples = torch.stack(logits_samples)  # Shape: [ensemble_size, num_samples, batch_size, num_classes]\n",
        "    return bald(logits_samples)\n",
        "\n",
        "# rejection criterion based on uncertainty\n",
        "def reject_classification(uncertainty, threshold):\n",
        "    return uncertainty.mean() > threshold\n"
      ],
      "metadata": {
        "id": "CAhMiNVow5rl"
      },
      "id": "CAhMiNVow5rl",
      "execution_count": 20,
      "outputs": []
    },
    {
      "cell_type": "code",
      "source": [
        "def classify_with_rejection(models, test_loader, threshold=0.5, use_bald=True, num_samples=100):\n",
        "    model = models[1]  # choosing a model from ensemble\n",
        "    model.eval()\n",
        "\n",
        "    correct = 0\n",
        "    total = 0\n",
        "    rejected = 0\n",
        "\n",
        "    all_logits = []\n",
        "\n",
        "    for data, target in test_loader:\n",
        "        data = data.to(device)\n",
        "        target = target.to(device)\n",
        "\n",
        "        if use_bald:\n",
        "            # Use ensemble to compute BALD as a proxy for epistemic uncertainty\n",
        "            uncertainty = ensemble_predictive_entropy(models, data, num_samples)\n",
        "            logits = model(data)[0]\n",
        "        else:\n",
        "            # For a deterministic model, calculate predictive entropy\n",
        "            logits = model(data)[0]\n",
        "            uncertainty = predictive_entropy(logits)\n",
        "\n",
        "        for i in range(len(uncertainty)):\n",
        "            # Check if the uncertainty is above the threshold for rejection\n",
        "            if reject_classification(uncertainty[i], threshold):\n",
        "                rejected += 1\n",
        "                continue  # Skip this sample if rejected\n",
        "\n",
        "            # If not rejected, classify the sample\n",
        "            _, predicted = torch.max(logits[i], dim=0)\n",
        "            if predicted == target[i]:\n",
        "                correct += 1\n",
        "            total += 1\n",
        "\n",
        "    accuracy = correct / total if total > 0 else 0\n",
        "    rejection_rate = rejected / len(test_loader.dataset)\n",
        "\n",
        "    print(f\"Accuracy: {accuracy * 100:.2f}%\")\n",
        "    print(f\"Rejection Rate: {rejection_rate * 100:.2f}%\")\n",
        "    return accuracy, rejection_rate\n"
      ],
      "metadata": {
        "id": "1DacKgwDw87k"
      },
      "id": "1DacKgwDw87k",
      "execution_count": 21,
      "outputs": []
    },
    {
      "cell_type": "code",
      "source": [
        "# rejection threshhold\n",
        "threshold = 0.5\n",
        "accuracy, rejection_rate = classify_with_rejection(ensemble, test_loader_dirty_mnist, threshold=threshold, use_bald=False)"
      ],
      "metadata": {
        "colab": {
          "base_uri": "https://localhost:8080/"
        },
        "id": "5QuuT8oOw_9D",
        "outputId": "beacd5f3-4adb-40c5-b02c-1de9e8a02088"
      },
      "id": "5QuuT8oOw_9D",
      "execution_count": 22,
      "outputs": [
        {
          "output_type": "stream",
          "name": "stdout",
          "text": [
            "Accuracy: 96.01%\n",
            "Rejection Rate: 52.75%\n"
          ]
        }
      ]
    },
    {
      "cell_type": "code",
      "source": [
        "# rejection threshhold\n",
        "threshold = 0.5\n",
        "accuracy2, rejection_rate2 = classify_with_rejection(ensemble, test_loader_dirty_mnist, threshold=threshold, use_bald=True)"
      ],
      "metadata": {
        "colab": {
          "base_uri": "https://localhost:8080/"
        },
        "id": "AjpMjbvSEnhw",
        "outputId": "68e74914-807e-4970-efac-51d36198c841"
      },
      "id": "AjpMjbvSEnhw",
      "execution_count": 30,
      "outputs": [
        {
          "output_type": "stream",
          "name": "stdout",
          "text": [
            "Accuracy: 82.04%\n",
            "Rejection Rate: 0.00%\n"
          ]
        }
      ]
    },
    {
      "cell_type": "code",
      "execution_count": 23,
      "id": "323c70cf",
      "metadata": {
        "id": "323c70cf"
      },
      "outputs": [],
      "source": [
        "def compute_accuracy_metric(predictive_log_probs: torch.Tensor, labels: torch.Tensor) -> float:\n",
        "    \"\"\"Compute accuracy for given predictions and labels.\"\"\"\n",
        "    predictions = predictive_log_probs.argmax(dim=1)\n",
        "    return (predictions == labels).float().mean().item()\n",
        "\n",
        "def compute_nll_metric(predictive_log_probs: torch.Tensor, labels: torch.Tensor) -> float:\n",
        "    \"\"\"Compute negative log likelihood for given predictions and labels.\"\"\"\n",
        "    return -predictive_log_probs[range(len(labels)), labels].mean().item()\n",
        "\n",
        "def plot_rejection_curve(\n",
        "    uncertainties: torch.Tensor,\n",
        "    predictive_log_probs: torch.Tensor,\n",
        "    labels: torch.Tensor,\n",
        "    method_name: str,\n",
        "    performance_metric: Callable[[torch.Tensor, torch.Tensor], float] = compute_accuracy_metric,\n",
        "    metric_name: str = \"Accuracy\",\n",
        "    num_bins: int = 20,\n",
        "    ax: Optional[plt.Axes] = None,\n",
        "    device: str = \"cuda\"\n",
        ") -> tuple[np.ndarray, np.ndarray]:\n",
        "    \"\"\"Plot performance metric vs rejection rate curve.\n",
        "\n",
        "    Args:\n",
        "        uncertainties: Tensor of uncertainty scores for each sample\n",
        "        predictive_log_probs: Predicted log probabilities (n_inputs, n_classes)\n",
        "        data_loader: DataLoader containing the evaluation data\n",
        "        method_name: Name of the method for the legend\n",
        "        performance_metric: Callable that computes the metric given log_probs and labels\n",
        "        metric_name: Name of the metric for the y-axis\n",
        "        num_bins: Number of bins for smoothing\n",
        "        ax: Matplotlib axes to plot on\n",
        "        device: Device to use for computations\n",
        "\n",
        "    Returns:\n",
        "        Tuple of (rejection_rates, metric_values) arrays\n",
        "    \"\"\"\n",
        "    # Sort samples by uncertainty (highest to lowest)\n",
        "    sorted_indices = torch.argsort(uncertainties).to(device)\n",
        "    sorted_predictive_log_probs = predictive_log_probs.to(device)[sorted_indices]\n",
        "    sorted_labels = labels.to(device)[sorted_indices]\n",
        "\n",
        "    # Calculate rejection rates and metric values\n",
        "    total_samples = uncertainties.shape[0]\n",
        "    rejection_rates = np.linspace(0, 1, num_bins)\n",
        "    metric_values = []\n",
        "\n",
        "    for rate in rejection_rates:\n",
        "        num_kept = int(total_samples * (1 - rate))\n",
        "        if num_kept > 0:\n",
        "            metric_value = performance_metric(\n",
        "                sorted_predictive_log_probs[:num_kept],\n",
        "                sorted_labels[:num_kept]\n",
        "            )\n",
        "        else:\n",
        "            metric_value = 1.0 if metric_name == \"Accuracy\" else 0.0\n",
        "        metric_values.append(metric_value)\n",
        "\n",
        "    # Create plot\n",
        "    if ax is None:\n",
        "        _, ax = plt.subplots(figsize=(8, 6))\n",
        "\n",
        "    ax.plot(rejection_rates * 100, metric_values, label=method_name, marker='o', markersize=4)\n",
        "    ax.set_xlabel('Rejection Rate (%)')\n",
        "    ax.set_ylabel(metric_name)\n",
        "    ax.set_title(f'{metric_name} vs Rejection Rate')\n",
        "    ax.grid(True, alpha=0.3)\n",
        "    ax.legend()\n",
        "\n",
        "    return rejection_rates, np.array(metric_values)"
      ]
    },
    {
      "cell_type": "code",
      "source": [
        "all_logits = []\n",
        "all_labels = []\n",
        "all_uncertainties = []\n",
        "\n",
        "for data, labels in test_loader_dirty_mnist:\n",
        "    data = data.to(device)\n",
        "    labels = labels.to(device)\n",
        "\n",
        "    logits = model(data)[0]\n",
        "    uncertainties = predictive_entropy(logits)\n",
        "\n",
        "    all_logits.append(logits)\n",
        "    all_labels.append(labels)\n",
        "    all_uncertainties.append(uncertainties)\n",
        "\n",
        "\n",
        "# Concatenate all the collected data\n",
        "all_logits = torch.cat(all_logits, dim=0)\n",
        "all_labels = torch.cat(all_labels, dim=0)\n",
        "all_uncertainties = torch.cat(all_uncertainties, dim=0)\n",
        "\n",
        "# Now, plot the rejection curve using the uncertainties and logits from this batch:\n",
        "rejection_rates, accuracy_values = plot_rejection_curve(\n",
        "    uncertainties=all_uncertainties,\n",
        "    predictive_log_probs=all_logits,\n",
        "    labels=all_labels,  # Use the labels from this batch\n",
        "    method_name=\"Predictive Entropy\",\n",
        "    performance_metric=compute_accuracy_metric,\n",
        "    metric_name=\"Accuracy\",\n",
        "    num_bins=20,\n",
        "    device=device\n",
        ")"
      ],
      "metadata": {
        "colab": {
          "base_uri": "https://localhost:8080/",
          "height": 564
        },
        "id": "T3A4pT9p3ICA",
        "outputId": "c54aa053-5f23-4624-d08f-261bc0214e52"
      },
      "id": "T3A4pT9p3ICA",
      "execution_count": 24,
      "outputs": [
        {
          "output_type": "display_data",
          "data": {
            "text/plain": [
              "<Figure size 800x600 with 1 Axes>"
            ],
            "image/png": "[encoded data removed]"
          },
          "metadata": {}
        }
      ]
    },
    {
      "cell_type": "code",
      "source": [
        "uncertainties = ensemble_predictive_entropy(ensemble, data)\n",
        "\n",
        "# Now, plot the rejection curve\n",
        "rejection_rates, accuracy_values = plot_rejection_curve(\n",
        "    uncertainties=uncertainties,\n",
        "    predictive_log_probs=logits,\n",
        "    labels=labels,\n",
        "    method_name=\"BALD\",\n",
        "    performance_metric=compute_accuracy_metric,\n",
        "    metric_name=\"Accuracy\",\n",
        "    num_bins=20,\n",
        "    device=\"cuda\"\n",
        ")\n"
      ],
      "metadata": {
        "colab": {
          "base_uri": "https://localhost:8080/",
          "height": 564
        },
        "id": "sQsi5kva2ePd",
        "outputId": "7d542adb-24c3-4811-f4ac-497a862794a0"
      },
      "id": "sQsi5kva2ePd",
      "execution_count": 25,
      "outputs": [
        {
          "output_type": "display_data",
          "data": {
            "text/plain": [
              "<Figure size 800x600 with 1 Axes>"
            ],
            "image/png": "[encoded data removed]"
          },
          "metadata": {}
        }
      ]
    },
    {
      "cell_type": "code",
      "source": [
        "# Function to calculate conditional entropy\n",
        "def conditional_entropy(logits_samples):\n",
        "    expected_logits = logits_samples.mean(dim=0)\n",
        "    expected_probs = F.softmax(expected_logits, dim=1)\n",
        "    expected_entropy = -torch.sum(expected_probs * torch.log(expected_probs + 1e-10), dim=1)\n",
        "\n",
        "    individual_entropies = torch.mean(torch.stack([predictive_entropy(sample) for sample in logits_samples]), dim=0)\n",
        "\n",
        "    return individual_entropies - expected_entropy"
      ],
      "metadata": {
        "id": "JSD3TLjUFV0i"
      },
      "id": "JSD3TLjUFV0i",
      "execution_count": 31,
      "outputs": []
    },
    {
      "cell_type": "code",
      "source": [
        "# Function to calculate uncertainties for a batch of data\n",
        "def compute_uncertainties(model, data, num_samples=10):\n",
        "    model.eval()\n",
        "    all_logits_samples = []\n",
        "    for _ in range(num_samples):\n",
        "        with torch.no_grad():\n",
        "            logits = model(data)[0]\n",
        "            all_logits_samples.append(logits)\n",
        "\n",
        "    logits_samples = torch.stack(all_logits_samples)\n",
        "    predictive_entropy_values = predictive_entropy(logits_samples.mean(dim=0))\n",
        "    conditional_entropy_values = conditional_entropy(logits_samples)\n",
        "    bald_values = bald(logits_samples)\n",
        "\n",
        "    return predictive_entropy_values, conditional_entropy_values,  bald_values"
      ],
      "metadata": {
        "id": "h1ReUgj-RkLm"
      },
      "id": "h1ReUgj-RkLm",
      "execution_count": 36,
      "outputs": []
    },
    {
      "cell_type": "code",
      "source": [
        "bald_values.shape, predictive_entropy_values.shape, conditional_entropy_values.shape"
      ],
      "metadata": {
        "colab": {
          "base_uri": "https://localhost:8080/"
        },
        "id": "45qONbU9Tiy9",
        "outputId": "09f39d34-1c02-480d-bb85-f590c219961d"
      },
      "id": "45qONbU9Tiy9",
      "execution_count": 38,
      "outputs": [
        {
          "output_type": "execute_result",
          "data": {
            "text/plain": [
              "((70000,), (70000,), (70000,))"
            ]
          },
          "metadata": {},
          "execution_count": 38
        }
      ]
    },
    {
      "cell_type": "code",
      "source": [
        "# Create uncertainty lists for both datasets\n",
        "predictive_entropy_values_dirty = []\n",
        "conditional_entropy_values_dirty = []\n",
        "bald_values_dirty = []\n",
        "\n",
        "predictive_entropy_values_fashion = []\n",
        "conditional_entropy_values_fashion = []\n",
        "bald_values_fashion = []\n",
        "\n",
        "# Loop over Dirty-MNIST\n",
        "for data, labels in test_loader_dirty_mnist:\n",
        "    data = data.to(device)\n",
        "    # Compute uncertainties for this batch\n",
        "    pred_entropy, cond_entropy, bald_val = compute_uncertainties(model, data)\n",
        "\n",
        "    predictive_entropy_values_dirty.append(pred_entropy.cpu().numpy())\n",
        "    conditional_entropy_values_dirty.append(cond_entropy.cpu().numpy())\n",
        "    bald_values_dirty.append(bald_val.cpu().numpy())\n",
        "\n",
        "# Loop over Fashion-MNIST\n",
        "for data, labels in test_loader_fashion:\n",
        "    data = data.to(device)\n",
        "    # Compute uncertainties for this batch\n",
        "    pred_entropy, cond_entropy, bald_val = compute_uncertainties(model, data)\n",
        "\n",
        "    predictive_entropy_values_fashion.append(pred_entropy.cpu().numpy())\n",
        "    conditional_entropy_values_fashion.append(cond_entropy.cpu().numpy())\n",
        "    bald_values_fashion.append(bald_val.cpu().numpy())\n",
        "\n",
        "# Concatenate the uncertainties for each dataset\n",
        "predictive_entropy_values = np.concatenate([np.concatenate(predictive_entropy_values_dirty),\n",
        "                                            np.concatenate(predictive_entropy_values_fashion)])\n",
        "conditional_entropy_values = np.concatenate([np.concatenate(conditional_entropy_values_dirty),\n",
        "                                             np.concatenate(conditional_entropy_values_fashion)])\n",
        "bald_values = np.concatenate([np.concatenate(bald_values_dirty),\n",
        "                               np.concatenate(bald_values_fashion)])\n"
      ],
      "metadata": {
        "id": "K6XlumkcJja2"
      },
      "id": "K6XlumkcJja2",
      "execution_count": 46,
      "outputs": []
    },
    {
      "cell_type": "code",
      "source": [
        "predictive_entropy_values.shape, conditional_entropy_values.shape, bald_values.shape"
      ],
      "metadata": {
        "colab": {
          "base_uri": "https://localhost:8080/"
        },
        "id": "vxYkGspQJlNm",
        "outputId": "f420bb5b-f4a8-4378-ac30-ac7bd9c8ec20"
      },
      "id": "vxYkGspQJlNm",
      "execution_count": 47,
      "outputs": [
        {
          "output_type": "execute_result",
          "data": {
            "text/plain": [
              "((80000,), (80000,), (80000,))"
            ]
          },
          "metadata": {},
          "execution_count": 47
        }
      ]
    },
    {
      "cell_type": "code",
      "source": [
        "from sklearn.metrics import roc_auc_score, RocCurveDisplay\n",
        "\n",
        "# Combine all uncertainty values for plotting\n",
        "uncertainty_values = {\n",
        "    'Predictive Entropy': predictive_entropy_values,\n",
        "    'Conditional Entropy': conditional_entropy_values,\n",
        "    'BALD': bald_values\n",
        "}\n",
        "\n",
        "# Extract labels from data loaders\n",
        "dirty_mnist_labels = []\n",
        "for _, labels in test_loader_dirty_mnist:\n",
        "    dirty_mnist_labels.extend(labels.cpu().numpy())\n",
        "dirty_mnist_labels = np.array(dirty_mnist_labels)\n",
        "\n",
        "fashion_mnist_labels = []\n",
        "for _, labels in test_loader_fashion:\n",
        "    fashion_mnist_labels.extend(labels.cpu().numpy())\n",
        "fashion_mnist_labels = np.array(fashion_mnist_labels)\n",
        "\n",
        "# Create artificial labels: 0 for Dirty-MNIST, 1 for Fashion-MNIST\n",
        "dirty_mnist_ood_labels = np.zeros_like(dirty_mnist_labels)\n",
        "fashion_mnist_ood_labels = np.ones_like(fashion_mnist_labels)\n",
        "\n",
        "# Concatenate labels for ROC analysis\n",
        "labels = np.concatenate([dirty_mnist_ood_labels, fashion_mnist_ood_labels])\n",
        "\n",
        "# Plot ROC curves for each uncertainty metric\n",
        "plt.figure(figsize=(10, 8))\n",
        "for method, uncertainties in uncertainty_values.items():\n",
        "    # Compute AUROC\n",
        "    auc = roc_auc_score(labels, uncertainties)\n",
        "    RocCurveDisplay.from_predictions(labels, uncertainties, name=f\"{method} (AUROC={auc:.3f})\")\n",
        "\n",
        "# Show the plot\n",
        "plt.title('ROC Curves for OoD Detection using Uncertainty Methods')\n",
        "plt.legend()\n",
        "plt.show()\n"
      ],
      "metadata": {
        "colab": {
          "base_uri": "https://localhost:8080/",
          "height": 1000
        },
        "id": "tZZ-tMamFu4F",
        "outputId": "1d2dc41f-af5d-4fe4-fc68-900d367a5b76"
      },
      "id": "tZZ-tMamFu4F",
      "execution_count": 48,
      "outputs": [
        {
          "output_type": "display_data",
          "data": {
            "text/plain": [
              "<Figure size 1000x800 with 0 Axes>"
            ]
          },
          "metadata": {}
        },
        {
          "output_type": "display_data",
          "data": {
            "text/plain": [
              "<Figure size 640x480 with 1 Axes>"
            ],
            "image/png": "[encoded data removed]"
          },
          "metadata": {}
        },
        {
          "output_type": "display_data",
          "data": {
            "text/plain": [
              "<Figure size 640x480 with 1 Axes>"
            ],
            "image/png": "[encoded data removed]"
          },
          "metadata": {}
        },
        {
          "output_type": "display_data",
          "data": {
            "text/plain": [
              "<Figure size 640x480 with 1 Axes>"
            ],
            "image/png": "[encoded data removed]"
          },
          "metadata": {}
        }
      ]
    },
    {
      "cell_type": "markdown",
      "id": "9d0b074b-aa46-4e9f-a15a-4fe1e9a84474",
      "metadata": {
        "id": "9d0b074b-aa46-4e9f-a15a-4fe1e9a84474"
      },
      "source": [
        "5.  **(Optional 10p)** Implement density-based uncertainty estimation\n",
        "    (e.g., using Mahalanobis distance) and compare its performance to\n",
        "    the other methods: train a single model (or take one of the trained\n",
        "    models) and extract the latents (activations before the last layer)\n",
        "    and predictions on MNIST’s training set. Fit a Gaussian distribution\n",
        "    for each class (using the class predictions as weights on the\n",
        "    latents if you want to) using the training set. At test time, we can\n",
        "    estimate the epistemic uncertainty via the sample density in latent\n",
        "    space by taking the latent and computing the sum of the densities\n",
        "    under the class-specific Gaussians. How does the performance of this\n",
        "    compare to the other methods when we evaluate on Dirty-MNIST using\n",
        "    classification with a rejection option? *Hint: You can use\n",
        "    `sklearn.covariance.EmpiricalCovariance` or\n",
        "    `sklearn.covariance.MinCovDet` to estimate the covariance matrix for\n",
        "    each class. Remember to regularize the covariance matrix to avoid\n",
        "    numerical issues. You can also use the `store_precision` options to\n",
        "    store the precision matrix instead of the covariance matrix. For\n",
        "    numerical stability, add a small multiple of the identity matrix to\n",
        "    the covariance matrix (e.g., `1e-12 * np.eye(latent_dim)`).*"
      ]
    },
    {
      "cell_type": "code",
      "source": [],
      "metadata": {
        "id": "KJ9HlHpZXq47"
      },
      "id": "KJ9HlHpZXq47",
      "execution_count": null,
      "outputs": []
    }
  ],
  "metadata": {
    "kernelspec": {
      "display_name": "Python 3",
      "name": "python3"
    },
    "language_info": {
      "codemirror_mode": {
        "name": "ipython",
        "version": "3"
      },
      "file_extension": ".py",
      "mimetype": "text/x-python",
      "name": "python",
      "nbconvert_exporter": "python",
      "pygments_lexer": "ipython3",
      "version": "3.11.5"
    },
    "colab": {
      "provenance": [],
      "gpuType": "T4",
      "include_colab_link": true
    },
    "accelerator": "GPU"
  },
  "nbformat": 4,
  "nbformat_minor": 5
}